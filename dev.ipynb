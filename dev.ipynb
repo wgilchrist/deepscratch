{
 "cells": [
  {
   "cell_type": "code",
   "execution_count": 1,
   "metadata": {},
   "outputs": [],
   "source": [
    "import io\n",
    "from nbformat import read\n",
    "import ast\n",
    "\n",
    "with open(\"deepscratch/optimisers.ipynb\", \"r\", encoding=\"utf-8\") as f:\n",
    "    nb = read(f, 4)"
   ]
  },
  {
   "cell_type": "code",
   "execution_count": 20,
   "metadata": {},
   "outputs": [
    {
     "data": {
      "text/plain": [
       "{'cell_type': 'code',\n",
       " 'execution_count': 2,\n",
       " 'metadata': {},\n",
       " 'outputs': [],\n",
       " 'source': 'import jax\\nimport jax.numpy as jnp\\nfrom jax import value_and_grad, tree, vmap, grad\\n\\nimport numpy as np\\n\\nfrom scipy.interpolate import splprep, splev\\n\\nfrom typing import Callable\\nfrom collections.abc import Iterable\\n\\nfrom abc import ABC, abstractmethod\\n\\nfrom itertools import product\\n\\nfrom functools import wraps, partial\\n\\nimport matplotlib\\nimport matplotlib.pyplot as plt'}"
      ]
     },
     "execution_count": 20,
     "metadata": {},
     "output_type": "execute_result"
    }
   ],
   "source": [
    "nb[\"cells\"][1]"
   ]
  },
  {
   "cell_type": "code",
   "execution_count": 21,
   "metadata": {},
   "outputs": [
    {
     "name": "stdout",
     "output_type": "stream",
     "text": [
      "<ast.Import object at 0x10b4d3dd0>\n",
      "<ast.Import object at 0x10b4d1750>\n",
      "<ast.ImportFrom object at 0x10b4d17d0>\n",
      "<ast.Import object at 0x10b4d1c10>\n",
      "<ast.ImportFrom object at 0x10b4d10d0>\n",
      "<ast.ImportFrom object at 0x10b44c050>\n",
      "<ast.ImportFrom object at 0x10b44fe10>\n",
      "<ast.ImportFrom object at 0x10b44ebd0>\n",
      "<ast.ImportFrom object at 0x10b44f1d0>\n",
      "<ast.ImportFrom object at 0x10b44cb90>\n",
      "<ast.Import object at 0x10b44ead0>\n",
      "<ast.Import object at 0x10b44e4d0>\n",
      "<ast.Assign object at 0x10b43e850>\n",
      "<ast.Assign object at 0x10b43e590>\n",
      "<ast.ClassDef object at 0x10b43fad0>\n",
      "<ast.Assign object at 0x10b59b250>\n",
      "<ast.FunctionDef object at 0x10b6b5e10>\n",
      "<ast.Assign object at 0x10b2c4490>\n",
      "<ast.Assign object at 0x10b44f650>\n",
      "<ast.Assign object at 0x10b44c0d0>\n",
      "<ast.Assign object at 0x10b44e010>\n",
      "<ast.Assign object at 0x10b44e750>\n",
      "<ast.Assign object at 0x10b44c5d0>\n",
      "<ast.Assign object at 0x10b44e550>\n",
      "<ast.Assign object at 0x10b44ed10>\n",
      "<ast.Assign object at 0x10b5a7710>\n",
      "<ast.Assign object at 0x10b4d3dd0>\n",
      "<ast.Assign object at 0x10b43ed50>\n",
      "<ast.Assign object at 0x10b43e890>\n",
      "<ast.Expr object at 0x10b43ebd0>\n",
      "<ast.Expr object at 0x10b43d9d0>\n",
      "<ast.Assign object at 0x10b43c850>\n",
      "<ast.Expr object at 0x10b43c790>\n",
      "<ast.FunctionDef object at 0x10b433550>\n",
      "<ast.FunctionDef object at 0x10b4d0150>\n",
      "<ast.ClassDef object at 0x10b43c790>\n",
      "<ast.ClassDef object at 0x10b6b75d0>\n",
      "<ast.ClassDef object at 0x10b6be550>\n",
      "<ast.ClassDef object at 0x10b434ed0>\n",
      "<ast.ClassDef object at 0x10b44e0d0>\n",
      "<ast.Assign object at 0x10b44d950>\n",
      "<ast.Assign object at 0x10b44c650>\n",
      "<ast.Assign object at 0x10b44d350>\n",
      "<ast.Assign object at 0x10b2de290>\n",
      "<ast.Assign object at 0x10b44c050>\n",
      "<ast.Assign object at 0x10b44c350>\n",
      "<ast.Assign object at 0x10b44cbd0>\n",
      "<ast.Assign object at 0x10b44ee90>\n",
      "<ast.Assign object at 0x10b44c610>\n",
      "<ast.Expr object at 0x10b44d810>\n",
      "<ast.ClassDef object at 0x10b102910>\n",
      "<ast.Assign object at 0x10b44d250>\n",
      "<ast.Assign object at 0x10b44de90>\n",
      "<ast.Assign object at 0x10b44e690>\n",
      "<ast.Assign object at 0x10b44ef50>\n",
      "<ast.Assign object at 0x10b44fd90>\n",
      "<ast.Assign object at 0x10b44ed50>\n",
      "<ast.Expr object at 0x10b44fbd0>\n",
      "<ast.ClassDef object at 0x10b471350>\n",
      "<ast.Assign object at 0x10b102650>\n",
      "<ast.Assign object at 0x10b434f90>\n",
      "<ast.Assign object at 0x10b437750>\n",
      "<ast.Assign object at 0x10b436750>\n",
      "<ast.Assign object at 0x10b436710>\n",
      "<ast.Assign object at 0x10b4355d0>\n",
      "<ast.Expr object at 0x10b433550>\n",
      "<ast.ClassDef object at 0x10b214210>\n",
      "<ast.Assign object at 0x106ab1610>\n",
      "<ast.Assign object at 0x10b433710>\n",
      "<ast.Assign object at 0x10b432310>\n",
      "<ast.Assign object at 0x10b432510>\n",
      "<ast.Assign object at 0x10b433410>\n",
      "<ast.Assign object at 0x10b102650>\n",
      "<ast.Expr object at 0x10b4373d0>\n",
      "<ast.ClassDef object at 0x10b437d50>\n",
      "<ast.Assign object at 0x10b432090>\n",
      "<ast.Assign object at 0x10b431e90>\n",
      "<ast.Assign object at 0x10b432510>\n",
      "<ast.Assign object at 0x10b432310>\n",
      "<ast.Assign object at 0x10b431b10>\n",
      "<ast.Assign object at 0x10b102910>\n",
      "<ast.Expr object at 0x10b434310>\n",
      "<ast.ClassDef object at 0x10b2f0cd0>\n",
      "<ast.Assign object at 0x10b431110>\n",
      "<ast.Assign object at 0x10b4329d0>\n",
      "<ast.Assign object at 0x10b433250>\n",
      "<ast.Assign object at 0x10b432050>\n",
      "<ast.Assign object at 0x10b432810>\n",
      "<ast.Assign object at 0x10b433610>\n",
      "<ast.Expr object at 0x10b431bd0>\n",
      "<ast.ClassDef object at 0x10b4d1610>\n",
      "<ast.Assign object at 0x10b4301d0>\n",
      "<ast.Assign object at 0x10b431a10>\n",
      "<ast.Assign object at 0x10b431d10>\n",
      "<ast.Assign object at 0x10b433510>\n",
      "<ast.Assign object at 0x10b432190>\n",
      "<ast.Assign object at 0x10b430050>\n",
      "<ast.Expr object at 0x10b433150>\n",
      "<ast.ClassDef object at 0x106b07690>\n",
      "<ast.Assign object at 0x10b6b6a10>\n",
      "<ast.Assign object at 0x10b6b6d50>\n",
      "<ast.Assign object at 0x10b6b7950>\n",
      "<ast.Assign object at 0x10b6b7990>\n",
      "<ast.Assign object at 0x10b4c6d10>\n",
      "<ast.Assign object at 0x10b2f0c90>\n",
      "<ast.Expr object at 0x10b5824d0>\n"
     ]
    }
   ],
   "source": [
    "for cell in nb[\"cells\"]:\n",
    "    if cell[\"cell_type\"] == \"code\":\n",
    "        tree = ast.parse(cell[\"source\"])\n",
    "        for node in tree.body:\n",
    "            print(node)"
   ]
  }
 ],
 "metadata": {
  "kernelspec": {
   "display_name": "mlvenv",
   "language": "python",
   "name": "python3"
  },
  "language_info": {
   "codemirror_mode": {
    "name": "ipython",
    "version": 3
   },
   "file_extension": ".py",
   "mimetype": "text/x-python",
   "name": "python",
   "nbconvert_exporter": "python",
   "pygments_lexer": "ipython3",
   "version": "3.12.8"
  }
 },
 "nbformat": 4,
 "nbformat_minor": 2
}
