{
 "cells": [
  {
   "cell_type": "code",
   "execution_count": 10,
   "metadata": {},
   "outputs": [],
   "source": [
    "from typing import Tuple\n",
    "from abc import ABC, abstractmethod\n",
    "import jax.numpy as jnp\n",
    "import jax"
   ]
  },
  {
   "cell_type": "code",
   "execution_count": 9,
   "metadata": {},
   "outputs": [],
   "source": [
    "class Transformation(ABC):\n",
    "    @abstractmethod\n",
    "    def __call__(self, x: jnp.array) -> jnp.array:\n",
    "        pass"
   ]
  },
  {
   "cell_type": "code",
   "execution_count": null,
   "metadata": {},
   "outputs": [],
   "source": [
    "class Reshape(Transformation):\n",
    "\n",
    "    def __init__(self, shape: int | Tuple[int]):\n",
    "        self.shape = shape\n",
    "\n",
    "    def __call__(self, arr: jnp.array) -> jnp.array:\n",
    "        return jnp.reshape(arr, self.shape)\n"
   ]
  },
  {
   "cell_type": "code",
   "execution_count": null,
   "metadata": {},
   "outputs": [],
   "source": [
    "class RandomJitter(Transformation):\n",
    "    \"\"\"\n",
    "    Applies random jitter (small random noise) to the image.\n",
    "    Useful for data augmentation in image tasks.\n",
    "    \n",
    "    Formula:\n",
    "        y = x + noise, where noise ~ Uniform(-amount, amount)\n",
    "    \"\"\"\n",
    "    def __init__(self, key: jax.random.PRNGKey, amount: float = 0.05):\n",
    "        self.key = key\n",
    "        self.amount = amount\n",
    "    \n",
    "    def __call__(self, arr: jnp.array) -> jnp.array:\n",
    "        noise = jax.random.uniform(self.key, arr.shape, minval=-self.amount, maxval=self.amount)\n",
    "        return arr + noise"
   ]
  },
  {
   "cell_type": "code",
   "execution_count": null,
   "metadata": {},
   "outputs": [],
   "source": [
    "class RandomRotation(Transformation):\n",
    "    \"\"\"\n",
    "    Rotates an image by a random angle.\n",
    "    Useful for data augmentation to improve model generalization.\n",
    "    \n",
    "    Formula:\n",
    "        y = rotate(x, angle), where angle ~ Uniform(-max_angle, max_angle)\n",
    "    \"\"\"\n",
    "    def __init__(self, key: jax.random.PRNGKey, max_angle: float = 30.0):\n",
    "        self.key = key\n",
    "        self.max_angle = max_angle\n",
    "    \n",
    "    def __call__(self, arr: jnp.array) -> jnp.array:\n",
    "        angle = jax.random.uniform(self.key, (), minval=-self.max_angle, maxval=self.max_angle)\n",
    "        return jnp.rot90(arr, k=int(angle // 90))  # Approximate rotation using 90-degree steps"
   ]
  },
  {
   "cell_type": "code",
   "execution_count": null,
   "metadata": {},
   "outputs": [],
   "source": [
    "class RandomFlip(Transformation):\n",
    "    \"\"\"\n",
    "    Randomly flips an image horizontally.\n",
    "    Useful for data augmentation in image classification tasks.\n",
    "    \"\"\"\n",
    "    def __init__(self, key: jax.random.PRNGKey):\n",
    "        self.key = key\n",
    "    \n",
    "    def __call__(self, arr: jnp.array) -> jnp.array:\n",
    "        should_flip = jax.random.bernoulli(self.key)\n",
    "        return jnp.flip(arr, axis=1) if should_flip else arr"
   ]
  },
  {
   "cell_type": "code",
   "execution_count": null,
   "metadata": {},
   "outputs": [],
   "source": [
    "class RandomCrop(Transformation):\n",
    "    \"\"\"\n",
    "    Randomly crops a patch from an image.\n",
    "    Useful for data augmentation to make models robust to translations.\n",
    "    \"\"\"\n",
    "    def __init__(self, key: jax.random.PRNGKey, crop_size: Tuple[int, int]):\n",
    "        self.key = key\n",
    "        self.crop_size = crop_size\n",
    "    \n",
    "    def __call__(self, arr: jnp.array) -> jnp.array:\n",
    "        h, w = arr.shape[:2]\n",
    "        crop_h, crop_w = self.crop_size\n",
    "        start_h = jax.random.randint(self.key, (), 0, h - crop_h + 1)\n",
    "        start_w = jax.random.randint(self.key, (), 0, w - crop_w + 1)\n",
    "        return arr[start_h:start_h + crop_h, start_w:start_w + crop_w]"
   ]
  },
  {
   "cell_type": "code",
   "execution_count": null,
   "metadata": {},
   "outputs": [],
   "source": [
    "class AvgPool(Transformation):\n",
    "    def __init__(self, kernel_size: tuple, stride: int = 1, padding: int = 0):\n",
    "        self.kernel_size = kernel_size if isinstance(kernel_size, tuple) else (kernel_size, kernel_size)\n",
    "        self.stride = stride\n",
    "        self.padding = padding\n",
    "    \n",
    "    def __call__(self, x):\n",
    "        x = jnp.pad(x, ((0, 0), (self.padding, self.padding), (self.padding, self.padding), (0, 0)), mode='constant')\n",
    "        return jax.lax.reduce_window(\n",
    "            x,\n",
    "            0.0,        \n",
    "            jax.lax.add,\n",
    "            window_dimensions=(1, self.kernel_size[0], self.kernel_size[1], 1),\n",
    "            window_strides=(1, self.stride, self.stride, 1),\n",
    "            padding='VALID'\n",
    "        ) / (self.kernel_size[0] * self.kernel_size[1])"
   ]
  }
 ],
 "metadata": {
  "kernelspec": {
   "display_name": "mlvenv",
   "language": "python",
   "name": "python3"
  },
  "language_info": {
   "codemirror_mode": {
    "name": "ipython",
    "version": 3
   },
   "file_extension": ".py",
   "mimetype": "text/x-python",
   "name": "python",
   "nbconvert_exporter": "python",
   "pygments_lexer": "ipython3",
   "version": "3.12.8"
  }
 },
 "nbformat": 4,
 "nbformat_minor": 2
}
