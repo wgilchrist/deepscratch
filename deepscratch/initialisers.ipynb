{
 "cells": [
  {
   "cell_type": "code",
   "execution_count": 2,
   "metadata": {},
   "outputs": [],
   "source": [
    "import jax\n",
    "import jax.numpy as jnp\n",
    "import numpy as np\n",
    "from abc import ABC, abstractmethod"
   ]
  },
  {
   "cell_type": "code",
   "execution_count": 3,
   "metadata": {},
   "outputs": [],
   "source": [
    "class ParamInitialiser(ABC):\n",
    "    def __init__(self):\n",
    "        self.prng_key = jax.random.PRNGKey(0)\n",
    "        self.is_leaf = lambda x : (\n",
    "            isinstance(x, tuple) \n",
    "            and not isinstance(x[0], (tuple, dict, list, set))\n",
    "        )\n",
    "\n",
    "    def __call__(self, pytree):\n",
    "        # unflatten pytree\n",
    "        leaves, struct = jax.tree.flatten(pytree, is_leaf = self.is_leaf)\n",
    "\n",
    "        # create a new key for each leaf\n",
    "        keys = jax.random.split(self.prng_key, len(leaves))\n",
    "\n",
    "        inits = [\n",
    "            self.param_generator(shape, key)\n",
    "            for (shape, key) in zip (leaves, keys)\n",
    "        ]\n",
    "\n",
    "        # map over leaves generating normals of desired shape & unflatten\n",
    "        inits = jax.tree_util.tree_unflatten(struct, inits)\n",
    "\n",
    "        # update key taking first of new keys\n",
    "        self.prng_key = keys[0]\n",
    "        \n",
    "        return inits\n",
    "\n",
    "    @abstractmethod\n",
    "    def param_generator(shape, key):\n",
    "        pass"
   ]
  },
  {
   "cell_type": "markdown",
   "metadata": {},
   "source": [
    "## Zero initialiser"
   ]
  },
  {
   "cell_type": "code",
   "execution_count": 4,
   "metadata": {},
   "outputs": [],
   "source": [
    "class Zeros(ParamInitialiser):\n",
    "    def __init__(self):\n",
    "        super().__init__()\n",
    "    \n",
    "    def param_generator(self, shape, key):\n",
    "        return jnp.zeros(shape, dtype=\"float32\")"
   ]
  },
  {
   "cell_type": "code",
   "execution_count": 5,
   "metadata": {},
   "outputs": [
    {
     "name": "stderr",
     "output_type": "stream",
     "text": [
      "WARNING:2025-02-19 12:55:37,489:jax._src.xla_bridge:1018: Platform 'METAL' is experimental and not all JAX functionality may be correctly supported!\n"
     ]
    },
    {
     "name": "stdout",
     "output_type": "stream",
     "text": [
      "Metal device set to: Apple M3\n",
      "\n",
      "systemMemory: 16.00 GB\n",
      "maxCacheSize: 5.33 GB\n",
      "\n"
     ]
    },
    {
     "name": "stderr",
     "output_type": "stream",
     "text": [
      "WARNING: All log messages before absl::InitializeLog() is called are written to STDERR\n",
      "W0000 00:00:1739969737.489627 8723108 mps_client.cc:510] WARNING: JAX Apple GPU support is experimental and not all JAX functionality is correctly supported!\n",
      "I0000 00:00:1739969737.500557 8723108 service.cc:145] XLA service 0x11dc39620 initialized for platform METAL (this does not guarantee that XLA will be used). Devices:\n",
      "I0000 00:00:1739969737.500568 8723108 service.cc:153]   StreamExecutor device (0): Metal, <undefined>\n",
      "I0000 00:00:1739969737.501592 8723108 mps_client.cc:406] Using Simple allocator.\n",
      "I0000 00:00:1739969737.501600 8723108 mps_client.cc:384] XLA backend will use up to 11452776448 bytes on device 0 for SimpleAllocator.\n"
     ]
    }
   ],
   "source": [
    "init = Zeros()"
   ]
  },
  {
   "cell_type": "code",
   "execution_count": 6,
   "metadata": {},
   "outputs": [
    {
     "data": {
      "text/plain": [
       "{'b_y': Array([0., 0., 0., 0., 0., 0., 0., 0., 0., 0.], dtype=float32),\n",
       " 'w_yx': Array([[0., 0., 0., ..., 0., 0., 0.],\n",
       "        [0., 0., 0., ..., 0., 0., 0.],\n",
       "        [0., 0., 0., ..., 0., 0., 0.],\n",
       "        ...,\n",
       "        [0., 0., 0., ..., 0., 0., 0.],\n",
       "        [0., 0., 0., ..., 0., 0., 0.],\n",
       "        [0., 0., 0., ..., 0., 0., 0.]], dtype=float32)}"
      ]
     },
     "execution_count": 6,
     "metadata": {},
     "output_type": "execute_result"
    }
   ],
   "source": [
    "init({\"w_yx\": (256, 10), \"b_y\": (10,)})"
   ]
  },
  {
   "cell_type": "markdown",
   "metadata": {},
   "source": [
    "## Gaussian initialiser"
   ]
  },
  {
   "cell_type": "code",
   "execution_count": 7,
   "metadata": {},
   "outputs": [],
   "source": [
    "class Gaussian(ParamInitialiser):\n",
    "    def __init__(self, mean=0, std=1):\n",
    "        super().__init__()\n",
    "        self.mean = mean\n",
    "        self.std = std\n",
    "    \n",
    "    def param_generator(self, shape, key):\n",
    "        return (\n",
    "            self.mean \n",
    "            + jax.random.normal(key=key, shape=shape) * self.std\n",
    "        )"
   ]
  },
  {
   "cell_type": "markdown",
   "metadata": {},
   "source": [
    "## He Initialiser"
   ]
  },
  {
   "cell_type": "code",
   "execution_count": 8,
   "metadata": {},
   "outputs": [],
   "source": [
    "class He(ParamInitialiser):\n",
    "    def __init__(self):\n",
    "        super().__init__()\n",
    "    \n",
    "    def param_generator(self, shape, key):\n",
    "        fan_in = shape[0] if len(shape) > 1 else 1  # Handling scalar case\n",
    "        std = jnp.sqrt(2.0 / fan_in)\n",
    "        return jax.random.normal(key, shape, dtype=jnp.float32) * std"
   ]
  },
  {
   "cell_type": "markdown",
   "metadata": {},
   "source": [
    "## Xavier Initialisation"
   ]
  },
  {
   "cell_type": "code",
   "execution_count": 9,
   "metadata": {},
   "outputs": [],
   "source": [
    "class Xavier(ParamInitialiser):\n",
    "    def __init__(self):\n",
    "        super().__init__()\n",
    "    \n",
    "    def param_generator(self, shape, key):\n",
    "        fan_in = shape[0] if len(shape) > 1 else 1  # Handling scalar case\n",
    "        fan_out = shape[1] if len(shape) > 1 else 1\n",
    "        std = jnp.sqrt(2.0 / (fan_in + fan_out))\n",
    "        return jax.random.normal(key, shape, dtype=jnp.float32) * std"
   ]
  },
  {
   "cell_type": "markdown",
   "metadata": {},
   "source": [
    "## Orthonormal initialiser"
   ]
  },
  {
   "cell_type": "code",
   "execution_count": null,
   "metadata": {},
   "outputs": [],
   "source": [
    "class Orthonormal(ParamInitialiser):\n",
    "    def __init__(self):\n",
    "        super().__init__()\n",
    "\n",
    "    def param_generator(self, shape, key):\n",
    "        if len(shape) != 2:\n",
    "            raise NotImplementedError(\n",
    "                f\"Orthonormal initialisation not implemented for arrays\"\n",
    "                f\"that are not two dimensional; passed shape implies\"\n",
    "                f\"{len(shape)} dimension(s).\")\n",
    "\n",
    "        n, m = shape\n",
    "        # NOTE: jax bug with qr on metal means we have to use numpy\n",
    "\n",
    "        # if array was originally on metal first\n",
    "        # QR decomp: A: n x m -> Q: n x min(n, m); R: min(n, m) x m\n",
    "        # where Q is orthonormal. SO, two cases with n > m & n < m\n",
    "        if n > m:\n",
    "            # QR: A: n x m -> Q: n x m; R: m x m\n",
    "            norm = jax.random.normal(key=key, shape=(n, m))\n",
    "            norm_cpu = jax.device_put(norm, jax.devices(\"cpu\")[0])\n",
    "            q, r = jnp.linalg.qr(norm_cpu) # n x m -> q = n x m; r = m x m\n",
    "            return jax.device_put(q, jax.devices(\"METAL\")[0])\n",
    "        \n",
    "        else:\n",
    "            # QR: A: n x m -> Q: n x n; R: n x m SO do QR on an m x n\n",
    "            # matrix instead (Q: m x n now) and just transpose\n",
    "            norm = jax.random.normal(key=key, shape=(m, n))\n",
    "            norm_cpu = jax.device_put(norm, jax.devices(\"cpu\")[0])\n",
    "            q, r = jnp.linalg.qr(norm_cpu) # m x n -> q = m x n;  r = n x n\n",
    "            return jax.device_put(q, jax.devices(\"METAL\")[0]).T\n"
   ]
  },
  {
   "cell_type": "code",
   "execution_count": 14,
   "metadata": {},
   "outputs": [],
   "source": [
    "init = Orthonormal()"
   ]
  },
  {
   "cell_type": "code",
   "execution_count": 15,
   "metadata": {},
   "outputs": [
    {
     "data": {
      "text/plain": [
       "(64, 50)"
      ]
     },
     "execution_count": 15,
     "metadata": {},
     "output_type": "execute_result"
    }
   ],
   "source": [
    "p0 = init({'w_yx': (64, 50)})\n",
    "p0[\"w_yx\"].shape"
   ]
  },
  {
   "cell_type": "code",
   "execution_count": 288,
   "metadata": {},
   "outputs": [
    {
     "data": {
      "text/plain": [
       "Array([1.0000002, 1.0000002, 1.0000002, 1.0000001, 1.0000001, 1.0000001,\n",
       "       1.0000001, 1.0000001, 1.0000001, 1.0000001, 1.0000001, 1.0000001,\n",
       "       1.0000001, 1.0000001, 1.0000001, 1.0000001, 1.       , 1.       ,\n",
       "       1.       , 1.       , 1.       , 1.       , 1.       , 1.       ,\n",
       "       1.       , 1.       , 1.       , 1.       , 1.       , 1.       ,\n",
       "       1.       , 1.       , 0.9999999, 0.9999999, 0.9999999, 0.9999999,\n",
       "       0.9999999, 0.9999999, 0.9999999, 0.9999999, 0.9999999, 0.9999999,\n",
       "       0.9999999, 0.9999999, 0.9999999, 0.9999999, 0.9999999, 0.9999999,\n",
       "       0.9999999, 0.9999999], dtype=float32)"
      ]
     },
     "execution_count": 288,
     "metadata": {},
     "output_type": "execute_result"
    }
   ],
   "source": [
    "jnp.linalg.svd(p0[\"w_yx\"]).S # spectral radius is one now"
   ]
  }
 ],
 "metadata": {
  "kernelspec": {
   "display_name": "mlvenv",
   "language": "python",
   "name": "python3"
  },
  "language_info": {
   "codemirror_mode": {
    "name": "ipython",
    "version": 3
   },
   "file_extension": ".py",
   "mimetype": "text/x-python",
   "name": "python",
   "nbconvert_exporter": "python",
   "pygments_lexer": "ipython3",
   "version": "3.12.8"
  }
 },
 "nbformat": 4,
 "nbformat_minor": 2
}
