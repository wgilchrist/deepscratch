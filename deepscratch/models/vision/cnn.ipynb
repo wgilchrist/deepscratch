{
 "cells": [
  {
   "cell_type": "code",
   "execution_count": 10,
   "metadata": {},
   "outputs": [],
   "source": [
    "import deepscratch\n",
    "from deepscratch.models.base import Block\n",
    "from deepscratch.initialisers import He, Zeros\n",
    "\n",
    "from functools import partial\n",
    "\n",
    "import jax\n",
    "from jax import lax\n",
    "import jax.numpy as jnp"
   ]
  },
  {
   "cell_type": "code",
   "execution_count": 11,
   "metadata": {},
   "outputs": [],
   "source": [
    "class ConvBlock(Block):\n",
    "    def __init__(\n",
    "        self, \n",
    "        input_channels: int, \n",
    "        output_channels: int, \n",
    "        kernel_size: int | tuple, \n",
    "        stride: int = 1, \n",
    "        padding: int = 0, \n",
    "        weight_init_method=He(), \n",
    "        bias_init_method=Zeros()\n",
    "    ):\n",
    "        self.input_channels = input_channels\n",
    "        self.output_channels = output_channels\n",
    "        self.kernel_size = kernel_size if isinstance(kernel_size, tuple) else (kernel_size, kernel_size)\n",
    "\n",
    "        self.stride = stride\n",
    "        self.padding = padding\n",
    "        self.forward = jax.jit(partial(self.forward, padding=padding, stride=stride))\n",
    "        \n",
    "        self.weight_init_method = weight_init_method\n",
    "        self.bias_init_method = bias_init_method\n",
    "        \n",
    "        super().__init__()\n",
    "        \n",
    "    def initialise(self):\n",
    "        w = {}\n",
    "        w[\"w_yxc\"] = self.weight_init_method((self.kernel_size[0], self.kernel_size[1], self.input_channels, self.output_channels))\n",
    "        w[\"b_y\"] = self.bias_init_method((self.output_channels,))\n",
    "        return w\n",
    "    \n",
    "    @staticmethod\n",
    "    def forward(x, w, padding, stride):\n",
    "        x = jnp.pad(x, [(0, 0), (padding, padding), (padding, padding), (0, 0)], mode='constant')\n",
    "        return lax.conv_general_dilated(\n",
    "            x,\n",
    "            w[\"w_yxc\"],\n",
    "            window_strides=(stride, stride),\n",
    "            padding='valid',\n",
    "            dimension_numbers=('NHWC', 'HWIO', 'NHWC')\n",
    "        ) + w[\"b_y\"]"
   ]
  }
 ],
 "metadata": {
  "kernelspec": {
   "display_name": "mlvenv",
   "language": "python",
   "name": "python3"
  },
  "language_info": {
   "codemirror_mode": {
    "name": "ipython",
    "version": 3
   },
   "file_extension": ".py",
   "mimetype": "text/x-python",
   "name": "python",
   "nbconvert_exporter": "python",
   "pygments_lexer": "ipython3",
   "version": "3.12.8"
  }
 },
 "nbformat": 4,
 "nbformat_minor": 2
}
